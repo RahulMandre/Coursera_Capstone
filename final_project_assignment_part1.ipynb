{
 "cells": [
  {
   "cell_type": "markdown",
   "metadata": {
    "collapsed": true
   },
   "source": [
    "# The Battle of Neighborhoods | Business Proposal | Introduction"
   ]
  },
  {
   "cell_type": "markdown",
   "metadata": {},
   "source": [
    "## Introduction:\n",
    "\n",
    "\n",
    "In India, many working professionals who hail from different parts of the country, have to shift to metro cities for work and this project aims to help these opeople in exploring the neighborhoods so that they can make wise choice while relocating. Many factors should be looked at when exploring neighborhoods such as Super market, medical shops, grocery shops, mall, theatre, hospital, like minded people, ease of accessing to Cafe, etc.\n",
    "\n",
    "This Project aim to create an analysis of features for a people migrating to Mumbai to search a best neighborhood as a comparative analysis between neighborhoods.\n",
    "\n",
    "\n",
    "## Problem Which Tried to Solve:\n",
    "\n",
    "The main objective is to separate neighborhoods by their similarities based on nearby venues, for the people who are shiffting there. \n",
    "\n",
    "\n",
    "## The Location:\n",
    "\n",
    "Mumbai is a popular corporate destination in India and lots of new people relaocate in this city every day. As a result, it is one of the most diverse and multicultural areas in the country, being home to various religious groups and places of worship. \n",
    "\n",
    "\n",
    "## Foursquare API:\n",
    "This project would use Four-square API as its prime data gathering source as it has a database of millions of places, especially their places API which provides the ability to perform location search, location sharing and details about a business.\n",
    "\n",
    "\n",
    "## Work Flow:\n",
    "Using credentials of Foursquare API features of near-by places of the neighborhoods would be mined. Due to http request limitations the number of places per neighborhood parameter would reasonably be set to 100 and the radius parameter would be set to 500.\n",
    "\n",
    "\n",
    "## Clustering Approach:\n",
    "We will have to identify similar neighborhooods in the city of Mumbai and separate differnet clusters based on the features discussed above. To be able to do that, we need to cluster data which is a form of unsupervised machine learning: k-means clustering algorithm\n",
    "\n",
    "\n",
    "## Libraries Which are Used to Develope the Project:\n",
    "Pandas: For creating and manipulating dataframes.\n",
    "\n",
    "Folium: Python visualization library would be used to visualize the neighborhoods cluster distribution of using interactive leaflet map.\n",
    "\n",
    "Scikit Learn: For importing k-means clustering.\n",
    "\n",
    "JSON: Library to handle JSON files.\n",
    "\n",
    "XML: To separate data from presentation and XML stores data in plain text format.\n",
    "\n",
    "Geocoder: To retrieve Location Data.\n",
    "\n",
    "Beautiful Soup and Requests: To scrap and library to handle http requests.\n",
    "\n",
    "Matplotlib: Python Plotting Module."
   ]
  },
  {
   "cell_type": "code",
   "execution_count": null,
   "metadata": {},
   "outputs": [],
   "source": []
  }
 ],
 "metadata": {
  "kernelspec": {
   "display_name": "Python 3",
   "language": "python",
   "name": "python3"
  },
  "language_info": {
   "codemirror_mode": {
    "name": "ipython",
    "version": 3
   },
   "file_extension": ".py",
   "mimetype": "text/x-python",
   "name": "python",
   "nbconvert_exporter": "python",
   "pygments_lexer": "ipython3",
   "version": "3.7.3"
  }
 },
 "nbformat": 4,
 "nbformat_minor": 2
}
